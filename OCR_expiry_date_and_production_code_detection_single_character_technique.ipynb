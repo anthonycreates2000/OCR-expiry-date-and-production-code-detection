{
  "nbformat": 4,
  "nbformat_minor": 0,
  "metadata": {
    "colab": {
      "provenance": [],
      "authorship_tag": "ABX9TyOSh/MM90vUYK1jvEEDGRgr"
    },
    "kernelspec": {
      "name": "python3",
      "display_name": "Python 3"
    },
    "language_info": {
      "name": "python"
    }
  },
  "cells": [
    {
      "cell_type": "markdown",
      "source": [
        "# OCR for Reading Expiry Date and Production Code (Recognizing Single Character)\n",
        "\n",
        "Name: Anthony Kevin Oktavius"
      ],
      "metadata": {
        "id": "6TmNOzz5Okfj"
      }
    },
    {
      "cell_type": "code",
      "execution_count": 1,
      "metadata": {
        "id": "94CmAt6S1Sjs",
        "colab": {
          "base_uri": "https://localhost:8080/"
        },
        "outputId": "14cbf997-4bf5-42e5-9db6-1958eae434a1"
      },
      "outputs": [
        {
          "output_type": "stream",
          "name": "stdout",
          "text": [
            "Device Specifications:\n",
            "[name: \"/device:CPU:0\"\n",
            "device_type: \"CPU\"\n",
            "memory_limit: 268435456\n",
            "locality {\n",
            "}\n",
            "incarnation: 10254199090155554176\n",
            "xla_global_id: -1\n",
            "]\n"
          ]
        }
      ],
      "source": [
        "import numpy as np\n",
        "import zipfile\n",
        "import gc\n",
        "import cv2\n",
        "import math\n",
        "import warnings\n",
        "import random\n",
        "import pandas as pd\n",
        "import matplotlib.pyplot as plt\n",
        "import seaborn as sns\n",
        "import torchvision\n",
        "import torchvision.transforms.functional as TF\n",
        "import torchvision.transforms as transforms\n",
        "import torch.utils.data as data_utils\n",
        "import torch\n",
        "import torchvision\n",
        "import torchvision.transforms as transforms\n",
        "import torch.optim as optim\n",
        "import torch.nn as nn\n",
        "import torch.nn.functional as F\n",
        "import PIL\n",
        "import imutils\n",
        "from sklearn.metrics import confusion_matrix, roc_curve\n",
        "\n",
        "from torch.utils.data import Dataset\n",
        "from sklearn.preprocessing import LabelBinarizer\n",
        "from sklearn.model_selection import train_test_split\n",
        "from sklearn.metrics import classification_report\n",
        "from tensorflow.python.client import device_lib\n",
        "from zipfile import ZipFile\n",
        "from IPython import display\n",
        "from google.colab.patches import cv2_imshow\n",
        "from imutils.contours import sort_contours\n",
        "\n",
        "print(\"Device Specifications:\")\n",
        "print(device_lib.list_local_devices())"
      ]
    },
    {
      "cell_type": "code",
      "source": [
        "device = torch.device(\"cuda\" if torch.cuda.is_available() else \"cpu\")\n",
        "device"
      ],
      "metadata": {
        "id": "Hu2DxO2NY3yu",
        "colab": {
          "base_uri": "https://localhost:8080/"
        },
        "outputId": "1fb0ec52-d4f1-4e6e-b26e-78d4caaa551f"
      },
      "execution_count": 2,
      "outputs": [
        {
          "output_type": "execute_result",
          "data": {
            "text/plain": [
              "device(type='cpu')"
            ]
          },
          "metadata": {},
          "execution_count": 2
        }
      ]
    },
    {
      "cell_type": "code",
      "source": [
        "device_lib.list_local_devices()"
      ],
      "metadata": {
        "id": "WvKPipPk5wXE",
        "colab": {
          "base_uri": "https://localhost:8080/"
        },
        "outputId": "1f7b25f7-9c80-48e9-ab89-7924eb139635"
      },
      "execution_count": 3,
      "outputs": [
        {
          "output_type": "execute_result",
          "data": {
            "text/plain": [
              "[name: \"/device:CPU:0\"\n",
              " device_type: \"CPU\"\n",
              " memory_limit: 268435456\n",
              " locality {\n",
              " }\n",
              " incarnation: 9605417533456758626\n",
              " xla_global_id: -1]"
            ]
          },
          "metadata": {},
          "execution_count": 3
        }
      ]
    },
    {
      "cell_type": "markdown",
      "source": [
        "## Data Preparation"
      ],
      "metadata": {
        "id": "j2ilvtLxmOE6"
      }
    },
    {
      "cell_type": "markdown",
      "source": [
        "Download Dotted Fonts Dataset"
      ],
      "metadata": {
        "id": "QjFUg9hjFLnR"
      }
    },
    {
      "cell_type": "code",
      "source": [
        "! wget https://github.com/ameera3/OCR_Expiration_Date/archive/refs/heads/master.zip -O OCR_Expiration_Date.zip\n",
        "! unzip -qq OCR_Expiration_Date.zip"
      ],
      "metadata": {
        "colab": {
          "base_uri": "https://localhost:8080/"
        },
        "id": "TWsHYZqPIfQG",
        "outputId": "85a0db37-50da-4105-b857-58d04b47e612"
      },
      "execution_count": 4,
      "outputs": [
        {
          "output_type": "stream",
          "name": "stdout",
          "text": [
            "--2023-11-07 07:03:56--  https://github.com/ameera3/OCR_Expiration_Date/archive/refs/heads/master.zip\n",
            "Resolving github.com (github.com)... 140.82.121.4\n",
            "Connecting to github.com (github.com)|140.82.121.4|:443... connected.\n",
            "HTTP request sent, awaiting response... 302 Found\n",
            "Location: https://codeload.github.com/ameera3/OCR_Expiration_Date/zip/refs/heads/master [following]\n",
            "--2023-11-07 07:03:56--  https://codeload.github.com/ameera3/OCR_Expiration_Date/zip/refs/heads/master\n",
            "Resolving codeload.github.com (codeload.github.com)... 140.82.121.9\n",
            "Connecting to codeload.github.com (codeload.github.com)|140.82.121.9|:443... connected.\n",
            "HTTP request sent, awaiting response... 200 OK\n",
            "Length: unspecified [application/zip]\n",
            "Saving to: ‘OCR_Expiration_Date.zip’\n",
            "\n",
            "OCR_Expiration_Date     [              <=>   ] 242.19M  22.0MB/s    in 18s     \n",
            "\n",
            "2023-11-07 07:04:14 (13.4 MB/s) - ‘OCR_Expiration_Date.zip’ saved [253956380]\n",
            "\n"
          ]
        }
      ]
    },
    {
      "cell_type": "markdown",
      "source": [
        "## Data Loading"
      ],
      "metadata": {
        "id": "XDaoCEYboCiX"
      }
    },
    {
      "cell_type": "markdown",
      "source": [
        "Data Preprocessing Functions."
      ],
      "metadata": {
        "id": "oTtZD3ICw4QK"
      }
    },
    {
      "cell_type": "code",
      "source": [
        "train_transform = transforms.Compose([\n",
        "    transforms.RandomAffine(\n",
        "      degrees = 10,\n",
        "      translate = (0.2, 0.2),\n",
        "      scale = [0.8, 1.2],\n",
        "    ),\n",
        "    transforms.ToTensor(),\n",
        "])\n",
        "\n",
        "test_transform = transforms.Compose([\n",
        "    transforms.ToTensor(),\n",
        "])\n",
        "\n",
        "dot_matrix_image_folder = torchvision.datasets.ImageFolder(\n",
        "  \"/content/OCR_Expiration_Date-master/Custom_Dot_Matrix_Dataset/Dot_Matrix_Test_1\",\n",
        ")\n",
        "\n",
        "print(dot_matrix_image_folder.classes)\n",
        "print(dot_matrix_image_folder)"
      ],
      "metadata": {
        "id": "X6jBFYGEInPM",
        "colab": {
          "base_uri": "https://localhost:8080/"
        },
        "outputId": "3c063c80-fd94-4fb8-f02c-a8dfabc70081"
      },
      "execution_count": 9,
      "outputs": [
        {
          "output_type": "stream",
          "name": "stdout",
          "text": [
            "['0', '1', '2', '3', '4', '5', '6', '7', '8', '9', 'A', 'B', 'C', 'Colon', 'D', 'Dash', 'E', 'F', 'G', 'H', 'I', 'J', 'K', 'L', 'M', 'N', 'O', 'P', 'Period', 'Q', 'R', 'S', 'Slash', 'T', 'U', 'V', 'W', 'X', 'Y', 'Z']\n",
            "Dataset ImageFolder\n",
            "    Number of datapoints: 12708\n",
            "    Root location: /content/OCR_Expiration_Date-master/Custom_Dot_Matrix_Dataset/Dot_Matrix_Test_1\n"
          ]
        }
      ]
    },
    {
      "cell_type": "markdown",
      "source": [
        "Divide into train and validation dataset"
      ],
      "metadata": {
        "id": "qD7QZsrfzyHi"
      }
    },
    {
      "cell_type": "code",
      "source": [
        "DATASET_SIZE = len(dot_matrix_image_folder)\n",
        "\n",
        "print(DATASET_SIZE)\n",
        "\n",
        "TRAIN_SIZE = int(0.8 * DATASET_SIZE)\n",
        "VAL_SIZE = int(DATASET_SIZE - TRAIN_SIZE)\n",
        "\n",
        "train_set, val_set = torch.utils.data.random_split(\n",
        "    dot_matrix_image_folder,\n",
        "    [TRAIN_SIZE, VAL_SIZE]\n",
        ")\n",
        "\n",
        "print(len(train_set), len(val_set))"
      ],
      "metadata": {
        "colab": {
          "base_uri": "https://localhost:8080/"
        },
        "id": "AHnbne9lzztU",
        "outputId": "88110918-c967-43cb-f030-73691ced89f3"
      },
      "execution_count": 13,
      "outputs": [
        {
          "output_type": "stream",
          "name": "stdout",
          "text": [
            "12708\n",
            "10166 2542\n"
          ]
        }
      ]
    },
    {
      "cell_type": "code",
      "source": [
        "class DottedFontsDataset(Dataset):\n",
        "  def __init__(self, image_folder, image_transform = None):\n",
        "    super(DottedFontsDataset, self).__init__()\n",
        "    self.image_folder = image_folder\n",
        "    self.image_transform = image_transform\n",
        "\n",
        "  def __getitem__(self, item_index):\n",
        "    image, label = self.image_folder[item_index]\n",
        "\n",
        "    if self.image_transform is not None:\n",
        "      image = self.image_transform(image)\n",
        "\n",
        "    return (image, label)\n",
        "\n",
        "  def __len__(self):\n",
        "    return len(self.image_folder)\n",
        "\n",
        "train_dotted_fonts_dataset = DottedFontsDataset(\n",
        "  image_folder = train_set,\n",
        "  image_transform = train_transform,\n",
        ")\n",
        "\n",
        "val_dotted_fonts_dataset = DottedFontsDataset(\n",
        "  image_folder = val_set,\n",
        "  image_transform = test_transform,\n",
        ")"
      ],
      "metadata": {
        "id": "CQCeydKWyyGq"
      },
      "execution_count": 17,
      "outputs": []
    },
    {
      "cell_type": "code",
      "source": [
        "BATCH_SIZE = 16\n",
        "\n",
        "train_dotted_fonts_data_loader = torch.utils.data.DataLoader(\n",
        "    train_dotted_fonts_dataset,\n",
        "    batch_size = BATCH_SIZE,\n",
        "    shuffle = True,\n",
        ")\n",
        "\n",
        "val_dotted_fonts_data_loader = torch.utils.data.DataLoader(\n",
        "    val_dotted_fonts_dataset,\n",
        "    batch_size = BATCH_SIZE,\n",
        "    shuffle = False,\n",
        ")"
      ],
      "metadata": {
        "id": "aIQhVg_e1n_2"
      },
      "execution_count": 19,
      "outputs": []
    }
  ]
}