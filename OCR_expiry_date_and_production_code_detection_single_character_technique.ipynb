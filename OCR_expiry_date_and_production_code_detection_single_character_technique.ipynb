{
  "nbformat": 4,
  "nbformat_minor": 0,
  "metadata": {
    "colab": {
      "provenance": [],
      "authorship_tag": "ABX9TyMsfPF4wxedxvNfpyUrqHyr"
    },
    "kernelspec": {
      "name": "python3",
      "display_name": "Python 3"
    },
    "language_info": {
      "name": "python"
    }
  },
  "cells": [
    {
      "cell_type": "markdown",
      "source": [
        "# OCR for Reading Expiry Date and Production Code (Recognizing Single Character)\n",
        "\n",
        "Name: Anthony Kevin Oktavius"
      ],
      "metadata": {
        "id": "6TmNOzz5Okfj"
      }
    },
    {
      "cell_type": "code",
      "execution_count": 1,
      "metadata": {
        "id": "94CmAt6S1Sjs",
        "colab": {
          "base_uri": "https://localhost:8080/"
        },
        "outputId": "14cbf997-4bf5-42e5-9db6-1958eae434a1"
      },
      "outputs": [
        {
          "output_type": "stream",
          "name": "stdout",
          "text": [
            "Device Specifications:\n",
            "[name: \"/device:CPU:0\"\n",
            "device_type: \"CPU\"\n",
            "memory_limit: 268435456\n",
            "locality {\n",
            "}\n",
            "incarnation: 10254199090155554176\n",
            "xla_global_id: -1\n",
            "]\n"
          ]
        }
      ],
      "source": [
        "import numpy as np\n",
        "import zipfile\n",
        "import gc\n",
        "import cv2\n",
        "import math\n",
        "import warnings\n",
        "import random\n",
        "import pandas as pd\n",
        "import matplotlib.pyplot as plt\n",
        "import seaborn as sns\n",
        "import torchvision\n",
        "import torchvision.transforms.functional as TF\n",
        "import torchvision.transforms as transforms\n",
        "import torch.utils.data as data_utils\n",
        "import torch\n",
        "import torchvision\n",
        "import torchvision.transforms as transforms\n",
        "import torch.optim as optim\n",
        "import torch.nn as nn\n",
        "import torch.nn.functional as F\n",
        "import PIL\n",
        "import imutils\n",
        "from sklearn.metrics import confusion_matrix, roc_curve\n",
        "\n",
        "from torch.utils.data import Dataset\n",
        "from sklearn.preprocessing import LabelBinarizer\n",
        "from sklearn.model_selection import train_test_split\n",
        "from sklearn.metrics import classification_report\n",
        "from tensorflow.python.client import device_lib\n",
        "from zipfile import ZipFile\n",
        "from IPython import display\n",
        "from google.colab.patches import cv2_imshow\n",
        "from imutils.contours import sort_contours\n",
        "\n",
        "print(\"Device Specifications:\")\n",
        "print(device_lib.list_local_devices())"
      ]
    },
    {
      "cell_type": "code",
      "source": [
        "device = torch.device(\"cuda\" if torch.cuda.is_available() else \"cpu\")\n",
        "device"
      ],
      "metadata": {
        "id": "Hu2DxO2NY3yu",
        "colab": {
          "base_uri": "https://localhost:8080/"
        },
        "outputId": "1fb0ec52-d4f1-4e6e-b26e-78d4caaa551f"
      },
      "execution_count": 2,
      "outputs": [
        {
          "output_type": "execute_result",
          "data": {
            "text/plain": [
              "device(type='cpu')"
            ]
          },
          "metadata": {},
          "execution_count": 2
        }
      ]
    },
    {
      "cell_type": "code",
      "source": [
        "device_lib.list_local_devices()"
      ],
      "metadata": {
        "id": "WvKPipPk5wXE",
        "colab": {
          "base_uri": "https://localhost:8080/"
        },
        "outputId": "1f7b25f7-9c80-48e9-ab89-7924eb139635"
      },
      "execution_count": 3,
      "outputs": [
        {
          "output_type": "execute_result",
          "data": {
            "text/plain": [
              "[name: \"/device:CPU:0\"\n",
              " device_type: \"CPU\"\n",
              " memory_limit: 268435456\n",
              " locality {\n",
              " }\n",
              " incarnation: 9605417533456758626\n",
              " xla_global_id: -1]"
            ]
          },
          "metadata": {},
          "execution_count": 3
        }
      ]
    },
    {
      "cell_type": "markdown",
      "source": [
        "## Data Preparation"
      ],
      "metadata": {
        "id": "j2ilvtLxmOE6"
      }
    },
    {
      "cell_type": "markdown",
      "source": [
        "Download Dotted Fonts Dataset"
      ],
      "metadata": {
        "id": "QjFUg9hjFLnR"
      }
    },
    {
      "cell_type": "code",
      "source": [
        "! wget https://github.com/ameera3/OCR_Expiration_Date/archive/refs/heads/master.zip -O OCR_Expiration_Date.zip\n",
        "! unzip -qq OCR_Expiration_Date.zip"
      ],
      "metadata": {
        "colab": {
          "base_uri": "https://localhost:8080/"
        },
        "id": "TWsHYZqPIfQG",
        "outputId": "85a0db37-50da-4105-b857-58d04b47e612"
      },
      "execution_count": 4,
      "outputs": [
        {
          "output_type": "stream",
          "name": "stdout",
          "text": [
            "--2023-11-07 07:03:56--  https://github.com/ameera3/OCR_Expiration_Date/archive/refs/heads/master.zip\n",
            "Resolving github.com (github.com)... 140.82.121.4\n",
            "Connecting to github.com (github.com)|140.82.121.4|:443... connected.\n",
            "HTTP request sent, awaiting response... 302 Found\n",
            "Location: https://codeload.github.com/ameera3/OCR_Expiration_Date/zip/refs/heads/master [following]\n",
            "--2023-11-07 07:03:56--  https://codeload.github.com/ameera3/OCR_Expiration_Date/zip/refs/heads/master\n",
            "Resolving codeload.github.com (codeload.github.com)... 140.82.121.9\n",
            "Connecting to codeload.github.com (codeload.github.com)|140.82.121.9|:443... connected.\n",
            "HTTP request sent, awaiting response... 200 OK\n",
            "Length: unspecified [application/zip]\n",
            "Saving to: ‘OCR_Expiration_Date.zip’\n",
            "\n",
            "OCR_Expiration_Date     [              <=>   ] 242.19M  22.0MB/s    in 18s     \n",
            "\n",
            "2023-11-07 07:04:14 (13.4 MB/s) - ‘OCR_Expiration_Date.zip’ saved [253956380]\n",
            "\n"
          ]
        }
      ]
    },
    {
      "cell_type": "code",
      "source": [],
      "metadata": {
        "id": "X6jBFYGEInPM"
      },
      "execution_count": null,
      "outputs": []
    }
  ]
}