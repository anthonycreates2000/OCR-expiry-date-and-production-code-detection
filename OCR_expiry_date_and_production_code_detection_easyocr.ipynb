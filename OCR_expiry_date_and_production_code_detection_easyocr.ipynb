{
  "nbformat": 4,
  "nbformat_minor": 0,
  "metadata": {
    "colab": {
      "provenance": [],
      "authorship_tag": "ABX9TyOmZlPIuHaaBEnCsyAzLc9H"
    },
    "kernelspec": {
      "name": "python3",
      "display_name": "Python 3"
    },
    "language_info": {
      "name": "python"
    }
  },
  "cells": [
    {
      "cell_type": "markdown",
      "source": [
        "# OCR Expiry Date and Production Code Detection with EasyOCR\n",
        "\n",
        "Name: Anthony Kevin Oktavius"
      ],
      "metadata": {
        "id": "79u7eBkZ_50I"
      }
    },
    {
      "cell_type": "code",
      "execution_count": 3,
      "metadata": {
        "colab": {
          "base_uri": "https://localhost:8080/"
        },
        "id": "Ps2PCAjc8yB-",
        "outputId": "39d55469-f9f0-4d51-b20e-cd74a5f27d1d"
      },
      "outputs": [
        {
          "output_type": "stream",
          "name": "stdout",
          "text": [
            "Requirement already satisfied: easyocr in /usr/local/lib/python3.10/dist-packages (1.7.1)\n",
            "Requirement already satisfied: torch in /usr/local/lib/python3.10/dist-packages (from easyocr) (2.1.0+cu118)\n",
            "Requirement already satisfied: torchvision>=0.5 in /usr/local/lib/python3.10/dist-packages (from easyocr) (0.16.0+cu118)\n",
            "Collecting opencv-python-headless (from easyocr)\n",
            "  Downloading opencv_python_headless-4.8.1.78-cp37-abi3-manylinux_2_17_x86_64.manylinux2014_x86_64.whl (49.1 MB)\n",
            "\u001b[2K     \u001b[90m━━━━━━━━━━━━━━━━━━━━━━━━━━━━━━━━━━━━━━━━\u001b[0m \u001b[32m49.1/49.1 MB\u001b[0m \u001b[31m17.7 MB/s\u001b[0m eta \u001b[36m0:00:00\u001b[0m\n",
            "\u001b[?25hRequirement already satisfied: scipy in /usr/local/lib/python3.10/dist-packages (from easyocr) (1.11.3)\n",
            "Requirement already satisfied: numpy in /usr/local/lib/python3.10/dist-packages (from easyocr) (1.23.5)\n",
            "Requirement already satisfied: Pillow in /usr/local/lib/python3.10/dist-packages (from easyocr) (9.4.0)\n",
            "Requirement already satisfied: scikit-image in /usr/local/lib/python3.10/dist-packages (from easyocr) (0.19.3)\n",
            "Requirement already satisfied: python-bidi in /usr/local/lib/python3.10/dist-packages (from easyocr) (0.4.2)\n",
            "Requirement already satisfied: PyYAML in /usr/local/lib/python3.10/dist-packages (from easyocr) (6.0.1)\n",
            "Requirement already satisfied: Shapely in /usr/local/lib/python3.10/dist-packages (from easyocr) (2.0.2)\n",
            "Requirement already satisfied: pyclipper in /usr/local/lib/python3.10/dist-packages (from easyocr) (1.3.0.post5)\n",
            "Requirement already satisfied: ninja in /usr/local/lib/python3.10/dist-packages (from easyocr) (1.11.1.1)\n",
            "Requirement already satisfied: requests in /usr/local/lib/python3.10/dist-packages (from torchvision>=0.5->easyocr) (2.31.0)\n",
            "Requirement already satisfied: filelock in /usr/local/lib/python3.10/dist-packages (from torch->easyocr) (3.12.4)\n",
            "Requirement already satisfied: typing-extensions in /usr/local/lib/python3.10/dist-packages (from torch->easyocr) (4.5.0)\n",
            "Requirement already satisfied: sympy in /usr/local/lib/python3.10/dist-packages (from torch->easyocr) (1.12)\n",
            "Requirement already satisfied: networkx in /usr/local/lib/python3.10/dist-packages (from torch->easyocr) (3.2)\n",
            "Requirement already satisfied: jinja2 in /usr/local/lib/python3.10/dist-packages (from torch->easyocr) (3.1.2)\n",
            "Requirement already satisfied: fsspec in /usr/local/lib/python3.10/dist-packages (from torch->easyocr) (2023.6.0)\n",
            "Requirement already satisfied: triton==2.1.0 in /usr/local/lib/python3.10/dist-packages (from torch->easyocr) (2.1.0)\n",
            "Requirement already satisfied: six in /usr/local/lib/python3.10/dist-packages (from python-bidi->easyocr) (1.16.0)\n",
            "Requirement already satisfied: imageio>=2.4.1 in /usr/local/lib/python3.10/dist-packages (from scikit-image->easyocr) (2.31.6)\n",
            "Requirement already satisfied: tifffile>=2019.7.26 in /usr/local/lib/python3.10/dist-packages (from scikit-image->easyocr) (2023.9.26)\n",
            "Requirement already satisfied: PyWavelets>=1.1.1 in /usr/local/lib/python3.10/dist-packages (from scikit-image->easyocr) (1.4.1)\n",
            "Requirement already satisfied: packaging>=20.0 in /usr/local/lib/python3.10/dist-packages (from scikit-image->easyocr) (23.2)\n",
            "Requirement already satisfied: MarkupSafe>=2.0 in /usr/local/lib/python3.10/dist-packages (from jinja2->torch->easyocr) (2.1.3)\n",
            "Requirement already satisfied: charset-normalizer<4,>=2 in /usr/local/lib/python3.10/dist-packages (from requests->torchvision>=0.5->easyocr) (3.3.1)\n",
            "Requirement already satisfied: idna<4,>=2.5 in /usr/local/lib/python3.10/dist-packages (from requests->torchvision>=0.5->easyocr) (3.4)\n",
            "Requirement already satisfied: urllib3<3,>=1.21.1 in /usr/local/lib/python3.10/dist-packages (from requests->torchvision>=0.5->easyocr) (2.0.7)\n",
            "Requirement already satisfied: certifi>=2017.4.17 in /usr/local/lib/python3.10/dist-packages (from requests->torchvision>=0.5->easyocr) (2023.7.22)\n",
            "Requirement already satisfied: mpmath>=0.19 in /usr/local/lib/python3.10/dist-packages (from sympy->torch->easyocr) (1.3.0)\n",
            "Installing collected packages: opencv-python-headless\n",
            "Successfully installed opencv-python-headless-4.8.1.78\n"
          ]
        }
      ],
      "source": [
        "! pip install easyocr"
      ]
    },
    {
      "cell_type": "code",
      "source": [
        "! pip uninstall opencv-python-headless\n",
        "! pip install opencv-python-headless==4.1.2.30"
      ],
      "metadata": {
        "colab": {
          "base_uri": "https://localhost:8080/"
        },
        "id": "Yv_mFlO3AVHu",
        "outputId": "bfaf5548-3a2d-4641-a54b-842bc19e7930"
      },
      "execution_count": 2,
      "outputs": [
        {
          "output_type": "stream",
          "name": "stdout",
          "text": [
            "Found existing installation: opencv-python-headless 4.8.1.78\n",
            "Uninstalling opencv-python-headless-4.8.1.78:\n",
            "  Would remove:\n",
            "    /usr/local/lib/python3.10/dist-packages/cv2/*\n",
            "    /usr/local/lib/python3.10/dist-packages/opencv_python_headless-4.8.1.78.dist-info/*\n",
            "    /usr/local/lib/python3.10/dist-packages/opencv_python_headless.libs/libavcodec-402e4b05.so.59.37.100\n",
            "    /usr/local/lib/python3.10/dist-packages/opencv_python_headless.libs/libavformat-0e2a2001.so.59.27.100\n",
            "    /usr/local/lib/python3.10/dist-packages/opencv_python_headless.libs/libavutil-ac9b7a1d.so.57.28.100\n",
            "    /usr/local/lib/python3.10/dist-packages/opencv_python_headless.libs/libcrypto-4b97533b.so.1.1\n",
            "    /usr/local/lib/python3.10/dist-packages/opencv_python_headless.libs/libgfortran-91cc3cb1.so.3.0.0\n",
            "    /usr/local/lib/python3.10/dist-packages/opencv_python_headless.libs/libopenblas-r0-f650aae0.3.3.so\n",
            "    /usr/local/lib/python3.10/dist-packages/opencv_python_headless.libs/libpng16-7379b3c3.so.16.40.0\n",
            "    /usr/local/lib/python3.10/dist-packages/opencv_python_headless.libs/libquadmath-96973f99.so.0.0.0\n",
            "    /usr/local/lib/python3.10/dist-packages/opencv_python_headless.libs/libssl-4e89c2e4.so.1.1\n",
            "    /usr/local/lib/python3.10/dist-packages/opencv_python_headless.libs/libswresample-c26a2b7e.so.4.7.100\n",
            "    /usr/local/lib/python3.10/dist-packages/opencv_python_headless.libs/libswscale-e41a6754.so.6.7.100\n",
            "    /usr/local/lib/python3.10/dist-packages/opencv_python_headless.libs/libvpx-2c989c7f.so.8.0.0\n",
            "  Would not remove (might be manually added):\n",
            "    /usr/local/lib/python3.10/dist-packages/cv2/bgsegm/__init__.pyi\n",
            "    /usr/local/lib/python3.10/dist-packages/cv2/bioinspired/__init__.pyi\n",
            "    /usr/local/lib/python3.10/dist-packages/cv2/ccm/__init__.pyi\n",
            "    /usr/local/lib/python3.10/dist-packages/cv2/colored_kinfu/__init__.pyi\n",
            "    /usr/local/lib/python3.10/dist-packages/cv2/datasets/__init__.pyi\n",
            "    /usr/local/lib/python3.10/dist-packages/cv2/dnn_superres/__init__.pyi\n",
            "    /usr/local/lib/python3.10/dist-packages/cv2/dpm/__init__.pyi\n",
            "    /usr/local/lib/python3.10/dist-packages/cv2/dynafu/__init__.pyi\n",
            "    /usr/local/lib/python3.10/dist-packages/cv2/face/__init__.pyi\n",
            "    /usr/local/lib/python3.10/dist-packages/cv2/ft/__init__.pyi\n",
            "    /usr/local/lib/python3.10/dist-packages/cv2/hfs/__init__.pyi\n",
            "    /usr/local/lib/python3.10/dist-packages/cv2/img_hash/__init__.pyi\n",
            "    /usr/local/lib/python3.10/dist-packages/cv2/intensity_transform/__init__.pyi\n",
            "    /usr/local/lib/python3.10/dist-packages/cv2/kinfu/__init__.pyi\n",
            "    /usr/local/lib/python3.10/dist-packages/cv2/kinfu/detail/__init__.pyi\n",
            "    /usr/local/lib/python3.10/dist-packages/cv2/large_kinfu/__init__.pyi\n",
            "    /usr/local/lib/python3.10/dist-packages/cv2/legacy/__init__.pyi\n",
            "    /usr/local/lib/python3.10/dist-packages/cv2/line_descriptor/__init__.pyi\n",
            "    /usr/local/lib/python3.10/dist-packages/cv2/linemod/__init__.pyi\n",
            "    /usr/local/lib/python3.10/dist-packages/cv2/mcc/__init__.pyi\n",
            "    /usr/local/lib/python3.10/dist-packages/cv2/motempl/__init__.pyi\n",
            "    /usr/local/lib/python3.10/dist-packages/cv2/multicalib/__init__.pyi\n",
            "    /usr/local/lib/python3.10/dist-packages/cv2/omnidir/__init__.pyi\n",
            "    /usr/local/lib/python3.10/dist-packages/cv2/optflow/__init__.pyi\n",
            "    /usr/local/lib/python3.10/dist-packages/cv2/phase_unwrapping/__init__.pyi\n",
            "    /usr/local/lib/python3.10/dist-packages/cv2/plot/__init__.pyi\n",
            "    /usr/local/lib/python3.10/dist-packages/cv2/ppf_match_3d/__init__.pyi\n",
            "    /usr/local/lib/python3.10/dist-packages/cv2/qt/fonts/DejaVuSans-Bold.ttf\n",
            "    /usr/local/lib/python3.10/dist-packages/cv2/qt/fonts/DejaVuSans-BoldOblique.ttf\n",
            "    /usr/local/lib/python3.10/dist-packages/cv2/qt/fonts/DejaVuSans-ExtraLight.ttf\n",
            "    /usr/local/lib/python3.10/dist-packages/cv2/qt/fonts/DejaVuSans-Oblique.ttf\n",
            "    /usr/local/lib/python3.10/dist-packages/cv2/qt/fonts/DejaVuSans.ttf\n",
            "    /usr/local/lib/python3.10/dist-packages/cv2/qt/fonts/DejaVuSansCondensed-Bold.ttf\n",
            "    /usr/local/lib/python3.10/dist-packages/cv2/qt/fonts/DejaVuSansCondensed-BoldOblique.ttf\n",
            "    /usr/local/lib/python3.10/dist-packages/cv2/qt/fonts/DejaVuSansCondensed-Oblique.ttf\n",
            "    /usr/local/lib/python3.10/dist-packages/cv2/qt/fonts/DejaVuSansCondensed.ttf\n",
            "    /usr/local/lib/python3.10/dist-packages/cv2/qt/plugins/platforms/libqxcb.so\n",
            "    /usr/local/lib/python3.10/dist-packages/cv2/quality/__init__.pyi\n",
            "    /usr/local/lib/python3.10/dist-packages/cv2/rapid/__init__.pyi\n",
            "    /usr/local/lib/python3.10/dist-packages/cv2/reg/__init__.pyi\n",
            "    /usr/local/lib/python3.10/dist-packages/cv2/rgbd/__init__.pyi\n",
            "    /usr/local/lib/python3.10/dist-packages/cv2/saliency/__init__.pyi\n",
            "    /usr/local/lib/python3.10/dist-packages/cv2/stereo/__init__.pyi\n",
            "    /usr/local/lib/python3.10/dist-packages/cv2/structured_light/__init__.pyi\n",
            "    /usr/local/lib/python3.10/dist-packages/cv2/text/__init__.pyi\n",
            "    /usr/local/lib/python3.10/dist-packages/cv2/videostab/__init__.pyi\n",
            "    /usr/local/lib/python3.10/dist-packages/cv2/wechat_qrcode/__init__.pyi\n",
            "    /usr/local/lib/python3.10/dist-packages/cv2/xfeatures2d/__init__.pyi\n",
            "    /usr/local/lib/python3.10/dist-packages/cv2/ximgproc/__init__.pyi\n",
            "    /usr/local/lib/python3.10/dist-packages/cv2/ximgproc/segmentation/__init__.pyi\n",
            "    /usr/local/lib/python3.10/dist-packages/cv2/xphoto/__init__.pyi\n",
            "Proceed (Y/n)? Y\n",
            "  Successfully uninstalled opencv-python-headless-4.8.1.78\n",
            "\u001b[31mERROR: Could not find a version that satisfies the requirement opencv-python-headless==4.1.2.30 (from versions: 3.4.10.37, 3.4.11.39, 3.4.11.41, 3.4.11.43, 3.4.11.45, 3.4.13.47, 3.4.15.55, 3.4.16.59, 3.4.17.61, 3.4.17.63, 3.4.18.65, 4.3.0.38, 4.4.0.40, 4.4.0.42, 4.4.0.44, 4.4.0.46, 4.5.1.48, 4.5.3.56, 4.5.4.58, 4.5.4.60, 4.5.5.62, 4.5.5.64, 4.6.0.66, 4.7.0.68, 4.7.0.72, 4.8.0.74, 4.8.0.76, 4.8.1.78)\u001b[0m\u001b[31m\n",
            "\u001b[0m\u001b[31mERROR: No matching distribution found for opencv-python-headless==4.1.2.30\u001b[0m\u001b[31m\n",
            "\u001b[0m"
          ]
        }
      ]
    },
    {
      "cell_type": "code",
      "source": [
        "from easyocr import Reader\n",
        "import cv2\n",
        "from google.colab.patches import cv2_imshow\n",
        "from PIL import ImageFont, ImageDraw, Image\n",
        "import numpy as np"
      ],
      "metadata": {
        "id": "3PYpv7tfAXwF"
      },
      "execution_count": 6,
      "outputs": []
    },
    {
      "cell_type": "markdown",
      "source": [
        "Set the languages that we'd like to work with."
      ],
      "metadata": {
        "id": "-RTBK6tTF6-6"
      }
    },
    {
      "cell_type": "code",
      "source": [
        "languages_list = ['en']"
      ],
      "metadata": {
        "id": "5UtVW-qxF6vU"
      },
      "execution_count": null,
      "outputs": []
    },
    {
      "cell_type": "markdown",
      "source": [
        "Make the process faster by using GPU."
      ],
      "metadata": {
        "id": "GnMQM-wHH5wA"
      }
    },
    {
      "cell_type": "code",
      "source": [
        "gpu = True"
      ],
      "metadata": {
        "id": "MQ8bVnLAIcZY"
      },
      "execution_count": null,
      "outputs": []
    }
  ]
}